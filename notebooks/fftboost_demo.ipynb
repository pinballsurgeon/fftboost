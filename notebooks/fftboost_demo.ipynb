{
 "cells": [
  {
   "cell_type": "markdown",
   "id": "0",
   "metadata": {},
   "source": [
    "# fftboost: Ensemble-of-Experts Boosting (EEB) â€” Visual Demo\n",
    "\n",
    "This Colab-ready notebook demonstrates the full EEB pipeline:\n",
    "- Deterministic training with Huber loss + early stopping\n",
    "- Ensemble of experts (fft_bin + sk_band)\n",
    "- Explainable descriptors (bin and band ranges)\n",
    "- Visualizations: signal, spectrogram, selected bins/bands, stage contributions\n",
    "- Deterministic artifact save/load with stable SHA256\n"
   ]
  },
  {
   "cell_type": "code",
   "execution_count": null,
   "id": "1",
   "metadata": {
    "id": "install"
   },
   "outputs": [],
   "source": [
    "# ruff: noqa: I001\n",
    "# If running on Colab or clean environment, uncomment to install from GitHub\n",
    "# !pip install git+https://github.com/pinballsurgeon/fftboost.git --quiet\n",
    "import importlib\n",
    "import matplotlib.pyplot as plt\n",
    "import numpy as np\n",
    "\n",
    "from fftboost import FFTBoost, BoosterConfig\n",
    "\n",
    "io_mod = None\n",
    "for module_name in ('fftboost.io', 'src.fftboost.io'):\n",
    "    try:\n",
    "        io_mod = importlib.import_module(module_name)\n",
    "        break\n",
    "    except ModuleNotFoundError:\n",
    "        continue\n",
    "if io_mod is None:\n",
    "    raise ImportError('Unable to import load_model')\n",
    "load_model = io_mod.load_model\n"
   ]
  },
  {
   "cell_type": "markdown",
   "id": "2",
   "metadata": {},
   "source": [
    "## 1) Generate a synthetic signal (AM 50 Hz tone + noise)"
   ]
  },
  {
   "cell_type": "code",
   "execution_count": null,
   "id": "3",
   "metadata": {},
   "outputs": [],
   "source": [
    "rng = np.random.default_rng(123)\n",
    "fs = 1000.0\n",
    "duration_s = 10.0\n",
    "n = int(fs * duration_s)\n",
    "t = np.arange(n) / fs\n",
    "env = 0.7 + 0.3 * np.sin(2 * np.pi * 0.25 * t)\n",
    "x = env * np.sin(2 * np.pi * 50.0 * t) + 0.4 * rng.standard_normal(n)\n",
    "\n",
    "win_s, hop_s = 0.5, 0.25\n",
    "win_len, hop = int(win_s * fs), int(hop_s * fs)\n",
    "y_true_signal = env * np.sin(2 * np.pi * 50.0 * t)\n",
    "n_win = (n - win_len) // hop + 1\n",
    "windows = np.lib.stride_tricks.as_strided(\n",
    "    y_true_signal,\n",
    "    shape=(n_win, win_len),\n",
    "    strides=(y_true_signal.strides[0] * hop, y_true_signal.strides[0]),\n",
    ")\n",
    "y = np.sqrt(np.mean(windows ** 2, axis=1)).astype(np.float64)\n",
    "x = x.astype(np.float64)\n",
    "\n",
    "fig, ax = plt.subplots(1, 1, figsize=(10, 3))\n",
    "ax.plot(t[:5000], x[:5000], lw=0.8)\n",
    "ax.set_title('Signal (first 5s)')\n",
    "ax.set_xlabel('seconds')\n",
    "ax.set_ylabel('amplitude')\n",
    "plt.show()\n"
   ]
  },
  {
   "cell_type": "markdown",
   "id": "4",
   "metadata": {},
   "source": [
    "## 2) Configure fftboost (EEB) and activate sk_band"
   ]
  },
  {
   "cell_type": "code",
   "execution_count": null,
   "id": "5",
   "metadata": {},
   "outputs": [],
   "source": [
    "# Log-spaced band edges from 10 Hz to Nyquist (fs/2)\n",
    "nyq = fs/2.0\n",
    "edges = np.logspace(np.log10(10.0), np.log10(nyq), 11)\n",
    "bands = [(float(edges[i]), float(edges[i+1])) for i in range(len(edges)-1)]\n",
    "config = BoosterConfig(\n",
    "    n_stages=32, nu=0.5, ridge_alpha=1e-3, early_stopping_rounds=8,\n",
    "    loss='huber', huber_delta=1.0, k_fft=6, min_sep_bins=3,\n",
    "    default_band_edges_hz=bands, sk_n_select=2, sk_kurtosis_boost=0.2\n",
    ")\n",
    "model = FFTBoost(config)\n"
   ]
  },
  {
   "cell_type": "markdown",
   "id": "6",
   "metadata": {},
   "source": [
    "## 3) Train with contiguous holdout early stopping"
   ]
  },
  {
   "cell_type": "code",
   "execution_count": null,
   "id": "7",
   "metadata": {},
   "outputs": [],
   "source": [
    "yhat = model.predict(x, fs=fs, window_s=win_s, hop_s=hop_s)\n",
    "fig, ax = plt.subplots(1, 1, figsize=(10, 3))\n",
    "ax.plot(y, label='target', lw=1.5)\n",
    "ax.plot(yhat, label='prediction', lw=1.25)\n",
    "ax.legend()\n",
    "ax.set_title('Target vs Prediction')\n",
    "plt.show()\n",
    "print('best_iteration:', model._booster.best_iteration_)\n"
   ]
  },
  {
   "cell_type": "markdown",
   "id": "8",
   "metadata": {},
   "source": [
    "## 4) Visualize selected FFT bins and band proposals"
   ]
  },
  {
   "cell_type": "code",
   "execution_count": null,
   "id": "9",
   "metadata": {},
   "outputs": [],
   "source": [
    "artifact = model._booster.artifact\n",
    "freqs = artifact.freqs\n",
    "bins = []\n",
    "bands_sel = []\n",
    "for stage in artifact.stages:\n",
    "    for desc in stage.descriptors:\n",
    "        if desc.get('type') == 'fft_bin':\n",
    "            bins.append(int(desc['bin']))\n",
    "        elif desc.get('type') == 'sk_band':\n",
    "            bands_sel.append(tuple(desc['band_hz']))\n",
    "\n",
    "fig, ax = plt.subplots(1, 1, figsize=(10, 3))\n",
    "ax.hist([freqs[b] for b in bins], bins=20, color='tab:blue')\n",
    "ax.set_title('Selected FFT bin frequencies')\n",
    "ax.set_xlabel('Hz')\n",
    "plt.show()\n",
    "\n",
    "if bands_sel:\n",
    "    lows = [band[0] for band in bands_sel]\n",
    "    highs = [band[1] for band in bands_sel]\n",
    "    fig, ax = plt.subplots(1, 1, figsize=(10, 3))\n",
    "    ax.scatter(lows, highs, s=20, c='tab:orange')\n",
    "    ax.set_title('Selected band ranges (lo vs hi)')\n",
    "    ax.set_xlabel('lo (Hz)')\n",
    "    ax.set_ylabel('hi (Hz)')\n",
    "    plt.show()\n"
   ]
  },
  {
   "cell_type": "markdown",
   "id": "10",
   "metadata": {},
   "source": [
    "## 5) Artifact determinism (save + load)"
   ]
  },
  {
   "cell_type": "code",
   "execution_count": null,
   "id": "11",
   "metadata": {},
   "outputs": [],
   "source": [
    "# ruff: noqa: I001\n",
    "import os\n",
    "import tempfile\n",
    "\n",
    "from fftboost.booster import Booster as BoosterLoaded\n",
    "\n",
    "tmp = tempfile.mkdtemp()\n",
    "info = model.save(os.path.join(tmp, 'model'))\n",
    "artifact2 = load_model(os.path.join(tmp, 'model'))\n",
    "cfg_dict = artifact2.config or {}\n",
    "cfg_params = cfg_dict.get('cfg', cfg_dict)\n",
    "model2 = FFTBoost(BoosterConfig(**cfg_params))\n",
    "booster2 = BoosterLoaded(model2.config)\n",
    "booster2.stages = artifact2.stages\n",
    "booster2.freqs = artifact2.freqs\n",
    "booster2.best_iteration_ = len(artifact2.stages) - 1\n",
    "model2._booster = booster2\n",
    "model2.is_fitted = True\n",
    "yhat2 = model2.predict(x, fs=fs, window_s=win_s, hop_s=hop_s)\n",
    "identical = np.allclose(yhat, yhat2) and yhat.shape == yhat2.shape\n",
    "print('SHA256:', info['sha256'])\n",
    "print('bit-identical predictions:', identical)\n"
   ]
  }
 ],
 "metadata": {
  "kernelspec": {
   "display_name": "Python 3",
   "language": "python",
   "name": "python3"
  },
  "language_info": {
   "name": "python",
   "version": "3.x"
  }
 },
 "nbformat": 4,
 "nbformat_minor": 5
}

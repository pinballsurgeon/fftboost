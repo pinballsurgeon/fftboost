{
 "cells": [
  {
   "cell_type": "markdown",
   "metadata": {},
   "source": [
    "# inference patterns\n",
    "\n",
    "short, visual examples of scoring new windows with fftboost: harmonic tracking, machine health, noise budget, and anomaly gating."
   ]
  },
  {
   "cell_type": "code",
   "execution_count": null,
   "metadata": {},
   "outputs": [],
   "source": [
    "# if needed:\n",
    "!pip install -q git+https://github.com/pinballsurgeon/fftboost.git\n",
    "!pip install -q matplotlib\n",
    "\n",
    "import numpy as np\n",
    "import matplotlib.pyplot as plt\n",
    "import time\n",
    "\n",
    "Fs = 1000\n",
    "W_s = 0.4\n",
    "H_s = 0.2\n",
    "W = int(Fs*W_s)\n",
    "H = int(Fs*H_s)\n",
    "rng = np.random.default_rng(1337)\n",
    "\n",
    "def windowize(x, W, H):\n",
    "    idx = np.arange(0, len(x)-W+1, H)\n",
    "    win = np.hanning(W)\n",
    "    return np.stack([x[i:i+W]*win for i in idx], axis=0), idx\n",
    "\n",
    "# ---- engineer hook: wire your fftboost model here ----\n",
    "def predict_windows(iwins, fs=Fs):\n",
    "    \"\"\"Return model predictions for a batch of windows.\n",
    "    TODO: replace with your fftboost instance's inference call, e.g.:\n",
    "        return model.predict_from_windows(iwins)\n",
    "    For now, provide a simple placeholder (FFT energy in target bands) so the notebook runs.\n",
    "    \"\"\"\n",
    "    # placeholder: magnitude at fund + IH bands\n",
    "    X = np.abs(np.fft.rfft(iwins, axis=1))\n",
    "    f = np.fft.rfftfreq(iwins.shape[1], 1/fs)\n",
    "    def band(lo, hi):\n",
    "        m = (f>=lo)&(f<=hi)\n",
    "        return X[:, m].sum(axis=1)\n",
    "    score = 0.6*band(45,55) + 0.3*band(90,130) + 0.1*band(130,200)\n",
    "    return (score - score.mean())/(score.std()+1e-9)\n",
    "\n",
    "def ema(x, alpha=0.2):\n",
    "    y = np.empty_like(x, dtype=float)\n",
    "    acc = x[0]\n",
    "    for i,v in enumerate(x):\n",
    "        acc = alpha*v + (1-alpha)*acc\n",
    "        y[i] = acc\n",
    "    return y\n",
    "\n",
    "plt.rcParams.update({\"figure.figsize\":(6,3)})"
   ]
  },
  {
   "cell_type": "markdown",
   "metadata": {},
   "source": [
    "## 1) harmonic tracking (grid)\n",
    "drifting interharmonic; show raw prediction, ema, and alarm threshold."
   ]
  },
  {
   "cell_type": "code",
   "execution_count": null,
   "metadata": {},
   "outputs": [],
   "source": [
    "T = 60  # seconds\n",
    "t = np.arange(int(T*Fs))/Fs\n",
    "x = 1.0*np.sin(2*np.pi*50*t)\n",
    "x += 0.4*np.sin(2*np.pi*(100+2*np.sin(2*np.pi*0.01*t))*t)  # IH drift\n",
    "x += 0.25*np.sin(2*np.pi*125*t)\n",
    "x += 0.25*rng.standard_normal(len(t))\n",
    "\n",
    "iwins, idx = windowize(x, W, H)\n",
    "y = predict_windows(iwins)\n",
    "y_s = ema(y, 0.2)\n",
    "thr = y_s.mean() + 2*y_s.std()\n",
    "\n",
    "tm = idx/Fs\n",
    "plt.plot(tm, y, label='pred')\n",
    "plt.plot(tm, y_s, label='ema')\n",
    "plt.axhline(thr, ls='--', label='alarm')\n",
    "plt.xlabel('time (s)'); plt.ylabel('score')\n",
    "plt.title('harmonic tracking')\n",
    "plt.legend(); plt.tight_layout(); plt.show()"
   ]
  },
  {
   "cell_type": "markdown",
   "metadata": {},
   "source": [
    "## 2) machine health (bearing line)\n",
    "fault line amplitude ramps, then drops; add waterfall and score overlay."
   ]
  },
  {
   "cell_type": "code",
   "execution_count": null,
   "metadata": {},
   "outputs": [],
   "source": [
    "T = 50\n",
    "t = np.arange(int(T*Fs))/Fs\n",
    "fault = 180\n",
    "amp = np.piecewise(t, [t<20, (t>=20)&(t<40), t>=40], [0.1, 0.5, 0.15])\n",
    "x = 0.9*np.sin(2*np.pi*50*t) + (amp*np.sin(2*np.pi*fault*t)) + 0.25*rng.standard_normal(len(t))\n",
    "iwins, idx = windowize(x, W, H)\n",
    "y = predict_windows(iwins)\n",
    "tm = idx/Fs\n",
    "\n",
    "# waterfall (coarse)\n",
    "Xm = np.abs(np.fft.rfft(iwins, axis=1))\n",
    "f = np.fft.rfftfreq(W, 1/Fs)\n",
    "fmax = 300\n",
    "fmask = f<=fmax\n",
    "plt.figure(figsize=(6,3))\n",
    "plt.imshow(20*np.log10(Xm[:,fmask]+1e-6).T, aspect='auto', origin='lower',\n",
    "           extent=[tm[0], tm[-1], f[fmask][0], f[fmask][-1]])\n",
    "plt.colorbar(label='dB')\n",
    "plt.plot(tm, np.full_like(tm, fault), 'w--', linewidth=0.8)\n",
    "plt.xlabel('time (s)'); plt.ylabel('Hz'); plt.title('waterfall + score')\n",
    "ax = plt.gca().twinx()\n",
    "ax.plot(tm, (y-y.min())/(np.ptp(y)+1e-9), 'r-', alpha=0.7)\n",
    "ax.set_ylabel('norm. score')\n",
    "plt.tight_layout(); plt.show()"
   ]
  },
  {
   "cell_type": "markdown",
   "metadata": {},
   "source": [
    "## 3) noise budget (band attribution)\n",
    "perturb HF noise and show bandwise contributions to the score."
   ]
  },
  {
   "cell_type": "code",
   "execution_count": null,
   "metadata": {},
   "outputs": [],
   "source": [
    "def synth_noise_case(hf_scale):\n",
    "    t = np.arange(W)/Fs\n",
    "    w = np.hanning(W)\n",
    "    s = 1.0*np.sin(2*np.pi*50*t) + 0.4*np.sin(2*np.pi*100*t) + 0.2*np.sin(2*np.pi*125*t)\n",
    "    s += hf_scale*rng.standard_normal(W)\n",
    "    return s*w\n",
    "\n",
    "cases = [0.1, 0.3, 0.6, 1.0]\n",
    "bands = [(45,55),(90,130),(130,200),(200,400)]\n",
    "labels = ['fund','IH1','IH2','HF']\n",
    "contrib = []\n",
    "\n",
    "for c in cases:\n",
    "    iw = synth_noise_case(c)[None,:]\n",
    "    X = np.abs(np.fft.rfft(iw, axis=1)); f = np.fft.rfftfreq(W,1/Fs)\n",
    "    parts = []\n",
    "    for lo,hi in bands:\n",
    "        m = (f>=lo)&(f<=hi)\n",
    "        parts.append(float(X[:,m].sum()))\n",
    "    contrib.append(parts)\n",
    "\n",
    "contrib = np.array(contrib)\n",
    "x = np.arange(len(labels))\n",
    "width = 0.18\n",
    "plt.figure(figsize=(6,3))\n",
    "for i,c in enumerate(cases):\n",
    "    plt.bar(x + i*width, contrib[i], width, label=f'hf={c}')\n",
    "plt.xticks(x + width*1.5, labels)\n",
    "plt.ylabel('band energy (a.u.)'); plt.title('band attribution vs HF noise')\n",
    "plt.legend(ncol=len(cases), fontsize=8)\n",
    "plt.tight_layout(); plt.show()"
   ]
  },
  {
   "cell_type": "markdown",
   "metadata": {},
   "source": [
    "## 4) anomaly gate with uncertainty (bootstrap)\n",
    "estimate CI via resampling active bands; flag outliers by z-score."
   ]
  },
  {
   "cell_type": "code",
   "execution_count": null,
   "metadata": {},
   "outputs": [],
   "source": [
    "def fake_active_bins():\n",
    "    # placeholder: emulate that the model uses bins near {50,100,125} Hz\n",
    "    f = np.fft.rfftfreq(W, 1/Fs)\n",
    "    bins = []\n",
    "    for target in [50,100,125]:\n",
    "        bins.append(int(np.argmin(np.abs(f - target))))\n",
    "    return np.array(bins)\n",
    "active_bins = fake_active_bins()\n",
    "\n",
    "# build a stream with occasional anomalies\n",
    "T = 80\n",
    "t = np.arange(int(T*Fs))/Fs\n",
    "x = 1.0*np.sin(2*np.pi*50*t) + 0.25*np.sin(2*np.pi*125*t) + 0.25*rng.standard_normal(len(t))\n",
    "an_idx = (t>30)&(t<32)\n",
    "x[an_idx] += 0.8*np.sin(2*np.pi*100*t[an_idx])  # injected anomaly\n",
    "\n",
    "iwins, idx = windowize(x, W, H)\n",
    "scores = predict_windows(iwins)\n",
    "\n",
    "def bootstrap_ci(iwins, bins, B=64):\n",
    "    # crude: resample active bins with replacement and recompute summed magnitude\n",
    "    X = np.abs(np.fft.rfft(iwins, axis=1))\n",
    "    vals = []\n",
    "    for _ in range(B):\n",
    "        sel = rng.choice(bins, size=len(bins), replace=True)\n",
    "        vals.append(X[:, sel].sum(axis=1))\n",
    "    vals = np.stack(vals, axis=1)\n",
    "    lo = np.percentile(vals, 2.5, axis=1)\n",
    "    hi = np.percentile(vals, 97.5, axis=1)\n",
    "    return lo, hi\n",
    "\n",
    "lo, hi = bootstrap_ci(iwins, active_bins, B=64)\n",
    "z = (scores - scores.mean())/(scores.std()+1e-9)\n",
    "tm = idx/Fs\n",
    "\n",
    "fig, ax = plt.subplots(1,1, figsize=(6,3))\n",
    "ax.plot(tm, scores, label='score')\n",
    "ax.fill_between(tm, lo, hi, color='C1', alpha=0.2, label='bootstrap CI (proxy)')\n",
    "ax.plot(tm[z>2.5], scores[z>2.5], 'rx', label='anomaly (z>2.5)')\n",
    "ax.set_xlabel('time (s)'); ax.set_ylabel('score'); ax.set_title('anomaly gate with CI')\n",
    "ax.legend(); plt.tight_layout(); plt.show()"
   ]
  },
  {
   "cell_type": "markdown",
   "metadata": {},
   "source": [
    "## latency snapshot\n",
    "approximate per-window inference time for your hook function."
   ]
  },
  {
   "cell_type": "code",
   "execution_count": null,
   "metadata": {},
   "outputs": [],
   "source": [
    "batch = rng.standard_normal((256, W)) * np.hanning(W)\n",
    "t0 = time.perf_counter()\n",
    "y = predict_windows(batch)\n",
    "t1 = time.perf_counter()\n",
    "print(f\"latency ~ {(t1-t0)*1e3/len(batch):.3f} ms / window (hook)\")"
   ]
  }
 ],
 "metadata": {
  "kernelspec": {
   "display_name": ".venv",
   "language": "python",
   "name": "python3"
  },
  "language_info": {
   "codemirror_mode": {
    "name": "ipython",
    "version": 3
   },
   "file_extension": ".py",
   "mimetype": "text/x-python",
   "name": "python",
   "nbconvert_exporter": "python",
   "pygments_lexer": "ipython3",
   "version": "3.13.6"
  }
 },
 "nbformat": 4,
 "nbformat_minor": 2
}

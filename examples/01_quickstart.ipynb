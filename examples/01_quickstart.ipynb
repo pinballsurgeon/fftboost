{
 "cells": [
  {
   "cell_type": "markdown",
   "metadata": {},
   "source": [
    "# Getting Started with FFTBoost\n",
    "\n",
    "This notebook provides a quick, hands-on introduction to the `fftboost` library. The goal is to run a complete evaluation: configure, execute cross-validation, and read the statistical acceptance result (J-Beats).\n",
    "\n",
    "By the end you will:\n",
    "1. Configure an `fftboost` evaluation.\n",
    "2. Run the cross-validation harness via the Python API.\n",
    "3. Inspect the J-Beats acceptance telemetry.\n",
    "4. (Optional) Run the same config with the CLI."
   ]
  },
  {
   "cell_type": "markdown",
   "metadata": {},
   "source": [
    "## Setup: installation and imports\n",
    "\n",
    "Install from GitHub and import the public API used below."
   ]
  },
  {
   "cell_type": "code",
   "execution_count": null,
   "metadata": {},
   "outputs": [],
   "source": [
    "# If running in a clean environment, uncomment to install:\n",
    "# !pip install -q git+https://github.com/pinballsurgeon/fftboost.git\n",
    "\n",
    "import json\n",
    "import numpy as np\n",
    "try:\n",
    "    from fftboost.api import FFTBoost, load_config_from_yaml\n",
    "except Exception as e:\n",
    "    raise RuntimeError(\n",
    "        \"Import failed. Install with: !pip install -q git+https://github.com/pinballsurgeon/fftboost.git\"\n",
    "    ) from e"
   ]
  },
  {
   "cell_type": "markdown",
   "metadata": {},
   "source": [
    "## Step 1: configuration\n",
    "\n",
    "Create a compact YAML config for a fast run. The settings mirror typical defaults but use shorter duration and fewer folds for quick execution in notebooks."
   ]
  },
  {
   "cell_type": "code",
   "execution_count": null,
   "metadata": {},
   "outputs": [],
   "source": [
    "%%writefile demo_config.yaml\n",
    "seed: 1337\n",
    "fs: 1000\n",
    "duration_s: 20          # shorter runtime for demo\n",
    "window_s: 0.4\n",
    "hop_s: 0.2\n",
    "cv_folds: 3             # fewer folds for speed\n",
    "\n",
    "use_wavelets: true\n",
    "wavelet_family: \"db4\"\n",
    "wavelet_level: 4\n",
    "use_hilbert_phase: true\n",
    "\n",
    "coherence_subbands:      # coarse coherence summarization (optional)\n",
    "  - [1, 40]\n",
    "  - [40, 100]\n",
    "\n",
    "target:\n",
    "  ehi_weights: { thd: 0.45, ipr: 0.55 }\n",
    "\n",
    "fftboost:\n",
    "  atoms: 5\n",
    "  lambda_hf: 0.10\n",
    "  lambda_coh: 3.0\n",
    "  min_sep_bins: 3\n",
    "  ridge_alpha: 0.1"
   ]
  },
  {
   "cell_type": "markdown",
   "metadata": {},
   "source": [
    "## Step 2: run the evaluation (Python API)\n",
    "\n",
    "Load the YAML, initialize `FFTBoost`, and run the cross-validation harness. The data generator uses a reproducible synthetic signal suitable for a quick check of the pipeline."
   ]
  },
  {
   "cell_type": "code",
   "execution_count": null,
   "metadata": {},
   "outputs": [],
   "source": [
    "print(\"loading configuration…\")\n",
    "config = load_config_from_yaml(\"demo_config.yaml\")\n",
    "\n",
    "print(\"initializing model…\")\n",
    "model = FFTBoost(config)\n",
    "\n",
    "print(\"running cross-validation…\")\n",
    "model.run_evaluation_with_generator()\n",
    "\n",
    "print(\"done.\")"
   ]
  },
  {
   "cell_type": "markdown",
   "metadata": {},
   "source": [
    "## Step 3: interpret J-Beats telemetry\n",
    "\n",
    "`j_beats_pass` indicates whether the lower bound of the 95% confidence interval on the mean ΔR² is > 0. The other fields provide the mean delta and its CI."
   ]
  },
  {
   "cell_type": "code",
   "execution_count": null,
   "metadata": {},
   "outputs": [],
   "source": [
    "class NumpyEncoder(json.JSONEncoder):\n",
    "    def default(self, obj):\n",
    "        if isinstance(obj, np.integer):\n",
    "            return int(obj)\n",
    "        if isinstance(obj, np.floating):\n",
    "            return float(obj)\n",
    "        if isinstance(obj, np.ndarray):\n",
    "            return obj.tolist()\n",
    "        if isinstance(obj, np.bool_):\n",
    "            return bool(obj)\n",
    "        return super().default(obj)\n",
    "\n",
    "telemetry = model.get_j_beats_telemetry()\n",
    "print(json.dumps(telemetry, indent=2, cls=NumpyEncoder))"
   ]
  },
  {
   "cell_type": "markdown",
   "metadata": {},
   "source": [
    "## Step 4 (optional): run the CLI\n",
    "\n",
    "You can execute the same configuration from a terminal. In notebooks, leave this commented unless your environment exposes the `fftboost` console script on PATH."
   ]
  },
  {
   "cell_type": "code",
   "execution_count": null,
   "metadata": {},
   "outputs": [],
   "source": [
    "# !fftboost --config demo_config.yaml"
   ]
  },
  {
   "cell_type": "markdown",
   "metadata": {},
   "source": [
    "## Next steps\n",
    "\n",
    "- Adjust `atoms`, `lambda_hf`, `lambda_coh`, and `min_sep_bins` to control selection behavior.\n",
    "- Increase `cv_folds` and `duration_s` for more stable estimates.\n",
    "- For integration, export the compact model artifact (selected bins, scalers, linear head) and call the single-window inference path in streaming code."
   ]
  }
 ],
 "metadata": {
  "kernelspec": {
   "display_name": "Python 3",
   "language": "python",
   "name": "python3"
  },
  "language_info": {
   "name": "python",
   "version": "3.11.0"
  }
 },
 "nbformat": 4,
 "nbformat_minor": 2
}

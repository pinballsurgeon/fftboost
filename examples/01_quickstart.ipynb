{
 "cells": [
  {
   "cell_type": "markdown",
   "metadata": {},
   "source": [
    "# Getting Started with FFTBoost\n",
    "\n",
    "This notebook provides a quick, hands-on introduction to the `fftboost` library. Our goal is to walk through a complete, end-to-end evaluation: from configuration to running the model to interpreting the final results.\n",
    "\n",
    "By the end of this notebook, you will know how to:\n",
    "1.  Configure an `fftboost` evaluation.\n",
    "2.  Run the full cross-validation harness using the Python API.\n",
    "3.  Understand the statistical acceptance gates that measure success.\n",
    "4.  Run the same evaluation using the Command Line Interface (CLI)."
   ]
  },
  {
   "cell_type": "markdown",
   "metadata": {},
   "source": [
    "## Setup: Installation and Imports\n",
    "\n",
    "First, let's install the library directly from GitHub and import the necessary components."
   ]
  },
  {
   "cell_type": "code",
   "execution_count": null,
   "metadata": {},
   "outputs": [],
   "source": [
    "# If running in a new environment, uncomment and run the line below\n",
    "# !pip install git+https://github.com/pinballsurgeon/fftboost.git\n",
    "\n",
    "from fftboost.api import FFTBoost, load_config_from_yaml\n",
    "import yaml\n",
    "import numpy as np\n",
    "import json"
   ]
  },
  {
   "cell_type": "markdown",
   "metadata": {},
   "source": [
    "## Step 1: Configuration\n",
    "\n",
    "Every `fftboost` run is controlled by a YAML configuration file. This ensures that experiments are reproducible. For this demo, we'll use a smaller, faster version of the default configuration. The `%%writefile` magic command will create this file for us in the current directory."
   ]
  },
  {
   "cell_type": "code",
   "execution_count": null,
   "metadata": {},
   "outputs": [],
   "source": [
    "%%writefile demo_config.yaml\n",
    "\n",
    "seed: 1337\n",
    "fs: 1000\n",
    "duration_s: 20  # Shorter duration for a quick run\n",
    "window_s: 0.4\n",
    "hop_s: 0.2\n",
    "cv_folds: 3     # Fewer folds for speed\n",
    "\n",
    "use_wavelets: true\n",
    "wavelet_family: \"db4\"\n",
    "wavelet_level: 4\n",
    "use_hilbert_phase: true\n",
    "coherence_subbands:\n",
    "  - [1, 40]\n",
    "  - [40, 100]\n",
    "\n",
    "target:\n",
    "  ehi_weights: { thd: 0.45, ipr: 0.55 }\n",
    "\n",
    "fftboost:\n",
    "  atoms: 5\n",
    "  lambda_hf: 0.10\n",
    "  lambda_coh: 3.0\n",
    "  min_sep_bins: 3\n",
    "  ridge_alpha: 0.1"
   ]
  },
  {
   "cell_type": "markdown",
   "metadata": {},
   "source": [
    "## Step 2: Run the Evaluation with the Python API\n",
    "\n",
    "Now we'll use our `FFTBoost` class to run the evaluation. We load the configuration, initialize the class, and call the evaluation method."
   ]
  },
  {
   "cell_type": "code",
   "execution_count": null,
   "metadata": {},
   "outputs": [],
   "source": [
    "print(\"Loading configuration...\")\n",
    "config = load_config_from_yaml(\"demo_config.yaml\")\n",
    "\n",
    "print(\"Initializing FFTBoost model...\")\n",
    "model = FFTBoost(config)\n",
    "\n",
    "print(\"Running cross-validation... (This may take a moment)\")\n",
    "model.run_evaluation_with_generator()\n",
    "\n",
    "print(\"Evaluation complete!\")"
   ]
  },
  {
   "cell_type": "markdown",
   "metadata": {},
   "source": [
    "## Step 3: Interpret the Results\n",
    "\n",
    "The most important output is the **J-Beats Acceptance Gate**. This gate tells us if our `fftboost` model is statistically significantly better than the simple baseline model. Let's retrieve and examine the telemetry."
   ]
  },
  {
   "cell_type": "code",
   "execution_count": null,
   "metadata": {},
   "outputs": [],
   "source": [
    "# We need our NumpyEncoder, just like in the CLI, to handle numpy types\n",
    "class NumpyEncoder(json.JSONEncoder):\n",
    "    def default(self, obj):\n",
    "        if isinstance(obj, np.integer):\n",
    "            return int(obj)\n",
    "        if isinstance(obj, np.floating):\n",
    "            return float(obj)\n",
    "        if isinstance(obj, np.ndarray):\n",
    "            return obj.tolist()\n",
    "        if isinstance(obj, np.bool_):\n",
    "            return bool(obj)\n",
    "        return super().default(obj)\n",
    "\n",
    "j_beats_telemetry = model.get_j_beats_telemetry()\n",
    "\n",
    "print(json.dumps(j_beats_telemetry, indent=2, cls=NumpyEncoder))"
   ]
  },
  {
   "cell_type": "markdown",
   "metadata": {},
   "source": [
    "### Understanding the J-Beats Gate\n",
    "\n",
    "- **`j_beats_pass`**: The final verdict. `true` means we have a statistically significant win.\n",
    "- **`mean_delta`**: The average improvement in R² score that `fftboost` provided over the baseline across all CV folds. A positive number is better.\n",
    "- **`ci_low`** and **`ci_high`**: The 95% confidence interval for the `mean_delta`. This is the most important part.\n",
    "\n",
    "The rule for passing the gate is simple: **`ci_low` must be greater than 0.**\n",
    "\n",
    "This is a high standard. It means that we are 95% confident that, even in a worst-case scenario, the FFTBoost model still provides a positive improvement. This is how we make decisions based on data, not luck."
   ]
  },
  {
   "cell_type": "markdown",
   "metadata": {},
   "source": [
    "## Bonus: Running with the CLI\n",
    "\n",
    "You can achieve the exact same result directly from your terminal using the `fftboost` command. The `!` symbol lets us run shell commands from inside the notebook."
   ]
  },
  {
   "cell_type": "code",
   "execution_count": null,
   "metadata": {},
   "outputs": [],
   "source": [
    "!fftboost --config demo_config.yaml"
   ]
  },
  {
   "cell_type": "markdown",
   "metadata": {},
   "source": [
    "## Next Steps\n",
    "\n",
    "This notebook covered the basic evaluation workflow. For more advanced configuration options and details on the underlying algorithms, please refer to the project's `README.md` and the documents in the `docs/` folder."
   ]
  }
 ],
 "metadata": {
  "kernelspec": {
   "display_name": "Python 3",
   "language": "python",
   "name": "python3"
  },
  "language_info": {
   "name": "python",
   "version": "3.11.0"
  }
 },
 "nbformat": 4,
 "nbformat_minor": 2
}

{
 "cells": [
  {
   "cell_type": "markdown",
   "metadata": {},
   "source": [
    "# fftboost: quick start\n",
    "\n",
    "Minimal, visual introduction. Configure, run CV, inspect acceptance (J-Beats), and view a simple FFT snapshot."
   ]
  },
  {
   "cell_type": "code",
   "execution_count": null,
   "metadata": {},
   "outputs": [],
   "source": [
    "# Install FFTBoost\n",
    "!pip install -q git+https://github.com/pinballsurgeon/fftboost.git\n",
    "!pip install -q matplotlib\n",
    "\n",
    "import json, time, math\n",
    "import numpy as np\n",
    "import matplotlib.pyplot as plt\n",
    "\n",
    "try:\n",
    "    from fftboost.api import FFTBoost, load_config_from_yaml\n",
    "except Exception as e:\n",
    "    raise RuntimeError(\"Install fftboost first: !pip install -q git+https://github.com/pinballsurgeon/fftboost.git\") from e\n",
    "\n",
    "np.set_printoptions(suppress=True, linewidth=120)"
   ]
  },
  {
   "cell_type": "markdown",
   "metadata": {},
   "source": [
    "## configure\n",
    "Fast settings for notebook runs (short duration, few folds)."
   ]
  },
  {
   "cell_type": "code",
   "execution_count": null,
   "metadata": {},
   "outputs": [],
   "source": [
    "%%writefile demo_config.yaml\n",
    "seed: 1337\n",
    "fs: 1000\n",
    "duration_s: 16\n",
    "window_s: 0.4\n",
    "hop_s: 0.2\n",
    "cv_folds: 3\n",
    "\n",
    "use_wavelets: true\n",
    "wavelet_family: \"db4\"\n",
    "wavelet_level: 4\n",
    "use_hilbert_phase: true\n",
    "\n",
    "coherence_subbands:\n",
    "  - [1, 40]\n",
    "  - [40, 100]\n",
    "\n",
    "target:\n",
    "  ehi_weights: { thd: 0.45, ipr: 0.55 }\n",
    "\n",
    "fftboost:\n",
    "  atoms: 6\n",
    "  lambda_hf: 0.10\n",
    "  lambda_coh: 3.0\n",
    "  min_sep_bins: 3\n",
    "  ridge_alpha: 0.1"
   ]
  },
  {
   "cell_type": "markdown",
   "metadata": {},
   "source": [
    "## run cross-validation\n",
    "Outputs telemetry including the J-Beats acceptance gate (ΔR² CI > 0)."
   ]
  },
  {
   "cell_type": "code",
   "execution_count": null,
   "metadata": {},
   "outputs": [],
   "source": [
    "config = load_config_from_yaml(\"demo_config.yaml\")\n",
    "m = FFTBoost(config)\n",
    "t0 = time.perf_counter()\n",
    "m.run_evaluation_with_generator()\n",
    "t1 = time.perf_counter()\n",
    "print(f\"evaluation wall time: {(t1-t0):.3f}s\")\n",
    "\n",
    "# J-Beats telemetry (public API)\n",
    "tele = m.get_j_beats_telemetry()\n",
    "\n",
    "# robust JSON print (numpy-safe)\n",
    "class _NumpyEncoder(json.JSONEncoder):\n",
    "    def default(self, o):\n",
    "        import numpy as _np\n",
    "        if isinstance(o, (_np.integer, )): return int(o)\n",
    "        if isinstance(o, (_np.floating, )): return float(o)\n",
    "        if isinstance(o, (_np.ndarray, )): return o.tolist()\n",
    "        if isinstance(o, (_np.bool_, )): return bool(o)\n",
    "        return super().default(o)\n",
    "\n",
    "print(json.dumps({k: tele.get(k, None) for k in [\"j_beats_pass\",\"mean_delta\",\"ci_low\",\"ci_high\"]}, indent=2, cls=_NumpyEncoder))"
   ]
  },
  {
   "cell_type": "markdown",
   "metadata": {},
   "source": [
    "## visualize acceptance\n",
    "Mean ΔR² with 95% CI. If fold deltas are available, plot them as well."
   ]
  },
  {
   "cell_type": "code",
   "execution_count": null,
   "metadata": {},
   "outputs": [],
   "source": [
    "mean_d = tele.get(\"mean_delta\", 0.0)\n",
    "ci_lo  = tele.get(\"ci_low\", mean_d)\n",
    "ci_hi  = tele.get(\"ci_high\", mean_d)\n",
    "\n",
    "plt.figure(figsize=(4,3))\n",
    "mid = (ci_lo+ci_hi)/2\n",
    "err = [[mid-ci_lo],[ci_hi-mid]]\n",
    "plt.errorbar([0], [mean_d], yerr=err, fmt='o', capsize=4)\n",
    "plt.axhline(0, linestyle='--')\n",
    "plt.xticks([0],[\"ΔR² (mean)\"])\n",
    "plt.ylabel(\"delta R² vs baseline\")\n",
    "plt.title(\"J-Beats summary\")\n",
    "plt.tight_layout()\n",
    "plt.show()\n",
    "\n",
    "# Optional per-fold bar if present (key names may vary)\n",
    "folds = tele.get(\"folds\") or tele.get(\"per_fold\") or []\n",
    "if folds:\n",
    "    deltas = []\n",
    "    for f in folds:\n",
    "        # accept common field names\n",
    "        d = f.get('delta') or f.get('dFFT') or f.get('delta_r2')\n",
    "        if d is not None: deltas.append(d)\n",
    "    if deltas:\n",
    "        plt.figure(figsize=(5,3))\n",
    "        x = np.arange(len(deltas))\n",
    "        plt.bar(x, deltas)\n",
    "        plt.axhline(0, linestyle='--')\n",
    "        plt.xlabel(\"fold\")\n",
    "        plt.ylabel(\"ΔR²\")\n",
    "        plt.title(\"per-fold ΔR²\")\n",
    "        plt.tight_layout()\n",
    "        plt.show()"
   ]
  },
  {
   "cell_type": "markdown",
   "metadata": {},
   "source": [
    "## fft snapshot\n",
    "Single window, magnitude FFT. This illustrates the sparse-in-frequency use case `fftboost` targets (fundamental, harmonics, interharmonics)."
   ]
  },
  {
   "cell_type": "code",
   "execution_count": null,
   "metadata": {},
   "outputs": [],
   "source": [
    "# simple synthetic window for illustration (independent of library internals)\n",
    "Fs = 1000\n",
    "T = 0.4\n",
    "N = int(Fs*T)\n",
    "t = np.arange(N)/Fs\n",
    "rng = np.random.default_rng(123)\n",
    "x = 1.0*np.sin(2*np.pi*50*t) + 0.4*np.sin(2*np.pi*100*t) + 0.2*np.sin(2*np.pi*125*t) + 0.2*rng.standard_normal(N)\n",
    "X = np.abs(np.fft.rfft(x*np.hanning(N)))\n",
    "f = np.fft.rfftfreq(N, 1/Fs)\n",
    "\n",
    "plt.figure(figsize=(6,3))\n",
    "plt.plot(f, X)\n",
    "plt.xlim(0, 250)\n",
    "plt.xlabel(\"frequency (Hz)\")\n",
    "plt.ylabel(\"|FFT|\")\n",
    "plt.title(\"one window: FFT magnitude\")\n",
    "plt.tight_layout()\n",
    "plt.show()"
   ]
  },
  {
   "cell_type": "markdown",
   "metadata": {},
   "source": [
    "## latency snapshot\n",
    "Rough timing for a small batch of FFTs + basic scaling to reflect the main inference path cost profile."
   ]
  },
  {
   "cell_type": "code",
   "execution_count": null,
   "metadata": {},
   "outputs": [],
   "source": [
    "def _latency_probe(n_windows=128, fs=1000, win_s=0.4):\n",
    "    N = int(fs*win_s)\n",
    "    rng = np.random.default_rng(7)\n",
    "    W = np.hanning(N)\n",
    "    batch = rng.standard_normal((n_windows, N))\n",
    "    t0 = time.perf_counter()\n",
    "    Xm = np.abs(np.fft.rfft(batch*W, axis=1))\n",
    "    mu = Xm.mean(axis=0); sd = Xm.std(axis=0) + 1e-9\n",
    "    Xs = (Xm - mu)/sd\n",
    "    # trivial linear head to mimic final projection cost\n",
    "    w = rng.standard_normal(Xs.shape[1])\n",
    "    y = Xs @ w\n",
    "    t1 = time.perf_counter()\n",
    "    return ((t1-t0)*1000)/n_windows\n",
    "\n",
    "ms = _latency_probe()\n",
    "print(f\"approx per-window latency: {ms:.3f} ms (FFT + scale + dot)\")"
   ]
  },
  {
   "cell_type": "markdown",
   "metadata": {},
   "source": [
    "## cli\n",
    "The same run via CLI (uncomment in environments where the console script is on PATH)."
   ]
  },
  {
   "cell_type": "code",
   "execution_count": null,
   "metadata": {},
   "outputs": [],
   "source": [
    "!fftboost --config demo_config.yaml"
   ]
  }
 ],
 "metadata": {
  "kernelspec": {
   "display_name": "Python 3",
   "language": "python",
   "name": "python3"
  },
  "language_info": {
   "name": "python",
   "version": "3.11.0"
  }
 },
 "nbformat": 4,
 "nbformat_minor": 2
}
